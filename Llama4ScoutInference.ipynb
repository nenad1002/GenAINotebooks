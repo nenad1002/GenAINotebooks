{
 "cells": [
  {
   "cell_type": "code",
   "execution_count": null,
   "id": "fc777282-6fb4-4104-b777-756aa5277940",
   "metadata": {},
   "outputs": [],
   "source": [
    "!pip install --upgrade accelerate transformers bitsandbytes\n",
    "\n",
    "# Hf xet is needed for fast model download (bypassing HTTP)\n",
    "!pip install huggingface_hub[hf_xet]"
   ]
  },
  {
   "cell_type": "code",
   "execution_count": null,
   "id": "b7b95eba-bc72-4f48-8b70-854da891832a",
   "metadata": {},
   "outputs": [],
   "source": [
    "from huggingface_hub import login\n",
    "\n",
    "login()"
   ]
  },
  {
   "cell_type": "code",
   "execution_count": null,
   "id": "be932c71-fec7-46bc-8349-8ff27c572279",
   "metadata": {},
   "outputs": [],
   "source": [
    "import torch\n",
    "from transformers import BitsAndBytesConfig, AutoProcessor, Llama4ForConditionalGeneration\n",
    "from accelerate import init_empty_weights, infer_auto_device_map\n",
    "\n",
    "model_id = \"meta-llama/Llama-4-Scout-17B-16E-Instruct\"\n",
    "processor = AutoProcessor.from_pretrained(model_id)\n",
    "\n",
    "with init_empty_weights():\n",
    "    empty_model = Llama4ForConditionalGeneration.from_pretrained(\n",
    "        model_id, low_cpu_mem_usage=True\n",
    "    )\n",
    "    \n",
    "torch.cuda.empty_cache() \n",
    "torch.cuda.max_split_size_mb = 512\n",
    "\n",
    "# Max GPU memory is set to 160GB since I've been testing this on BE200\n",
    "# Spikes on load could cause OOM if we don't offload something to CPU\n",
    "device_map = infer_auto_device_map(\n",
    "    empty_model,\n",
    "    max_memory={0: \"160GB\", \"cpu\": \"100GB\"},\n",
    "    no_split_module_classes=[\"LlamaDecoderLayer\"]\n",
    ")\n",
    "\n",
    "bnb_config = BitsAndBytesConfig(\n",
    "    load_in_4bit=True,\n",
    "    bnb_4bit_quant_type=\"nf4\",\n",
    "    bnb_4bit_compute_dtype=torch.bfloat16,\n",
    "    llm_int8_enable_fp32_cpu_offload=True\n",
    ")\n",
    "\n",
    "model = Llama4ForConditionalGeneration.from_pretrained(\n",
    "    model_id,\n",
    "    device_map=device_map,\n",
    "    quantization_config=bnb_config,\n",
    "    torch_dtype=torch.bfloat16\n",
    ")"
   ]
  },
  {
   "cell_type": "code",
   "execution_count": null,
   "id": "f56031d2-8e7f-4945-bead-44db11955d0f",
   "metadata": {},
   "outputs": [],
   "source": [
    "# Move all params to CUDA once loaded.\n",
    "import torch\n",
    "\n",
    "device = torch.device(\"cuda:0\")\n",
    "\n",
    "# Move all parameters\n",
    "for name, param in model.named_parameters():\n",
    "    if param.device.type != \"cuda\":\n",
    "        param.data = param.data.to(device)\n",
    "\n",
    "for name, buf in model.named_buffers():\n",
    "    if buf.device.type != \"cuda\":\n",
    "        model._buffers[name] = buf.to(device)\n",
    "\n",
    "print(\"Final device map:\")\n",
    "devices = {n: p.device for n, p in model.named_parameters()}\n",
    "print(devices)"
   ]
  },
  {
   "cell_type": "code",
   "execution_count": null,
   "id": "b3075847-157e-4798-98c8-ecd32a6e8296",
   "metadata": {},
   "outputs": [],
   "source": [
    "processor = AutoProcessor.from_pretrained(model_id)\n",
    "prompt = \"What is the capital of Croatia?\"\n",
    "inputs = processor(text=prompt, return_tensors=\"pt\").to(device)\n",
    "\n",
    "with torch.inference_mode():\n",
    "    out_ids = model.generate(**inputs, max_new_tokens=128)\n",
    "\n",
    "print(processor.decode(out_ids[0], skip_special_tokens=True))"
   ]
  }
 ],
 "metadata": {
  "kernelspec": {
   "display_name": "",
   "name": ""
  },
  "language_info": {
   "name": ""
  }
 },
 "nbformat": 4,
 "nbformat_minor": 5
}
